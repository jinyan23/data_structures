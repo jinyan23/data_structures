{
 "cells": [
  {
   "cell_type": "markdown",
   "metadata": {},
   "source": [
    "# Linked List\n",
    "* A linked list is a data structure similar to an array.\n",
    "* It is made up of a collection of nodes.\n",
    "* A node is an element in the linked list that carries two pieces of information: `data` and `next`.\n",
    "    * `data` contains the value of the element\n",
    "    * `next` points to the next node in the linked list\n",
    "* First node of a linked list is called the `head`.\n",
    "* Last node always points to `None`.\n"
   ]
  },
  {
   "cell_type": "markdown",
   "metadata": {},
   "source": [
    "# Implementation of Linked List in Python"
   ]
  },
  {
   "cell_type": "code",
   "execution_count": 1,
   "metadata": {},
   "outputs": [],
   "source": [
    "# Create a class to represent a linked list\n",
    "class LinkedList:\n",
    "    \n",
    "    def __init__(self, nodes=None):\n",
    "        \n",
    "        self.head = None\n",
    "        \n",
    "        # Instantiate with an array\n",
    "        if nodes != None:\n",
    "            node = Node(data=nodes.pop(0))\n",
    "            self.head = node\n",
    "            for elem in nodes:\n",
    "                node.next = Node(data=elem)\n",
    "                node = node.next\n",
    "        \n",
    "    # Print a string representation of the linked list\n",
    "    def __repr__(self):\n",
    "        \n",
    "        node = self.head\n",
    "        nodes = []\n",
    "        \n",
    "        # Traverse through the linked list to check if node is last\n",
    "        while node != None:\n",
    "            nodes.append(node.data)\n",
    "            node = node.next\n",
    "        nodes.append(\"None\")\n",
    "        return \" -> \".join(nodes)\n",
    "    \n",
    "    # Returns the class object as an iterator\n",
    "    def __iter__(self):\n",
    "        node = self.head\n",
    "        while node != None:\n",
    "            yield node\n",
    "            node = node.next\n",
    "    \n",
    "    # Add new node to start of linked list\n",
    "    def add_start(self, new_node):\n",
    "        new_node.next = self.head\n",
    "        self.head = new_node\n",
    "    \n",
    "    # Add new node to end of linked list\n",
    "    def add_end(self, new_node):\n",
    "        \n",
    "        # Check if linked list has any element\n",
    "        if self.head == None:\n",
    "            self.head = new_node\n",
    "            return\n",
    "        \n",
    "        # Traverse through the linked list to reach the last node\n",
    "        for current_node in self:\n",
    "            pass\n",
    "        current_node.next = new_node \n",
    "    \n",
    "    def insert_after(self, target_node_data, new_node):\n",
    "        \n",
    "        # Check if linked list has any element\n",
    "        if self.head == None:\n",
    "            raise Exception(\"List is empty.\")\n",
    "        \n",
    "        # Look for target node\n",
    "        for current_node in self: \n",
    "            if current_node.data == target_node_data:\n",
    "                new_node.next = current_node.next\n",
    "                current_node.next = new_node\n",
    "                return\n",
    "        \n",
    "        raise Exception(\"Node with data '{}' not found.\".format(target_node_data))\n",
    "        \n",
    "    def insert_before(self, target_node_data, new_node):\n",
    "        \n",
    "        # Check if linked list has any element\n",
    "        if self.head == None:\n",
    "            raise Exception(\"List is empty.\")\n",
    "        \n",
    "        if self.head.data == target_node_data:\n",
    "            return self.add_first(new_node)\n",
    "        \n",
    "        # Assign previous node\n",
    "        prev_node = self.head\n",
    "        for current_node in self:\n",
    "            if current_node.data == target_node_data:\n",
    "                prev_node.next = new_node\n",
    "                new_node.next = current_node\n",
    "                return\n",
    "            prev_node = current_node\n",
    "                \n",
    "        raise Exception(\"Node with data '{}' not found.\".format(target_node_data))\n",
    "    \n",
    "    def remove_node(self, target_node_data):\n",
    "        \n",
    "        # Check if linked list has any element\n",
    "        if self.head == None:\n",
    "            raise Exception(\"List is empty.\")\n",
    "        \n",
    "        if self.head.data == target_node_data:\n",
    "            self.head = self.head.next\n",
    "            return\n",
    "        \n",
    "        prev_node = self.head\n",
    "        for current_node in self:\n",
    "            if current_node.data == target_node_data:\n",
    "                prev_node.next = current_node.next\n",
    "                return\n",
    "            prev_node = current_node\n",
    "        \n",
    "# Create a class to present a node\n",
    "class Node:\n",
    "    \n",
    "    def __init__(self, data):\n",
    "        self.data = data\n",
    "        self.next = None "
   ]
  },
  {
   "cell_type": "code",
   "execution_count": 7,
   "metadata": {},
   "outputs": [
    {
     "name": "stdout",
     "output_type": "stream",
     "text": [
      "apple -> pear -> grape -> None\n"
     ]
    }
   ],
   "source": [
    "# Instantiate an empty linked list\n",
    "linked_one = LinkedList()\n",
    "\n",
    "# Instantiate three nodes to be added into the linked list\n",
    "node_one = Node(\"apple\")\n",
    "node_two = Node(\"pear\")\n",
    "node_three = Node(\"grape\")\n",
    "\n",
    "# Link the nodes together\n",
    "linked_one.head = node_one\n",
    "node_one.next = node_two\n",
    "node_two.next = node_three\n",
    "\n",
    "# Print out linked list\n",
    "print(linked_one)"
   ]
  },
  {
   "cell_type": "code",
   "execution_count": 3,
   "metadata": {},
   "outputs": [
    {
     "name": "stdout",
     "output_type": "stream",
     "text": [
      "Insert before: apple -> pineapple -> pear -> grape -> None\n",
      "Insert after: apple -> pineapple -> pear -> grape -> peach -> None\n",
      "Remove pear: apple -> pineapple -> grape -> peach -> None\n"
     ]
    }
   ],
   "source": [
    "# Insertion before\n",
    "linked_one.insert_before(\"pear\", Node(\"pineapple\"))\n",
    "print(\"Insert before:\", linked_one)\n",
    "\n",
    "# Insertion after\n",
    "linked_one.insert_after(\"grape\", Node(\"peach\"))\n",
    "print(\"Insert after:\", linked_one)\n",
    "\n",
    "# Remove\n",
    "linked_one.remove_node(\"pear\")\n",
    "print(\"Remove pear:\", linked_one)"
   ]
  },
  {
   "cell_type": "code",
   "execution_count": 4,
   "metadata": {},
   "outputs": [
    {
     "name": "stdout",
     "output_type": "stream",
     "text": [
      "ox -> tiger -> rabbit -> None\n",
      "Insert at start:  rat -> ox -> tiger -> rabbit -> None\n",
      "Insert at end:  rat -> ox -> tiger -> rabbit -> dragon -> None\n"
     ]
    }
   ],
   "source": [
    "# Providing argument for nodes parameter\n",
    "linked_two = LinkedList(nodes=[\"ox\", \"tiger\", \"rabbit\"])\n",
    "print(linked_two)\n",
    "\n",
    "# Insert at the start\n",
    "linked_two.add_start(Node(\"rat\"))\n",
    "print(\"Insert at start: \", linked_two)\n",
    "\n",
    "# Insert at the end\n",
    "linked_two.add_end(Node(\"dragon\"))\n",
    "print(\"Insert at end: \", linked_two)"
   ]
  },
  {
   "cell_type": "markdown",
   "metadata": {},
   "source": [
    "## Doubly Linked List"
   ]
  },
  {
   "cell_type": "code",
   "execution_count": 5,
   "metadata": {},
   "outputs": [],
   "source": [
    "# New Node class that points to previous node\n",
    "class Node:\n",
    "    \n",
    "    def __init__(self, data):\n",
    "        self.data = data\n",
    "        self.next = None\n",
    "        self.previous = None"
   ]
  },
  {
   "cell_type": "markdown",
   "metadata": {},
   "source": [
    "## Challenges\n",
    "1. Create a method to retieve an element from a specific position: `get(i)` or even `linked_list[i]`."
   ]
  },
  {
   "cell_type": "code",
   "execution_count": 6,
   "metadata": {},
   "outputs": [
    {
     "name": "stdout",
     "output_type": "stream",
     "text": [
      "Linked List Three: mixer -> knife -> rice cooker -> ladle -> pan -> pot -> pestle & mortar -> None\n",
      "Get position 3: rice cooker\n",
      "Get position 6: pot\n"
     ]
    }
   ],
   "source": [
    "# Challenge 1\n",
    "class UpgradedLinkedList(LinkedList):       # Class inheritance\n",
    "    \n",
    "    # Defining get() method\n",
    "    def get(self, pos):\n",
    "        \n",
    "        self.curr_pos = 0\n",
    "        self.pos = pos-1\n",
    "        \n",
    "        if self.head == None:\n",
    "            raise Exception(\"Linked list is empty.\")\n",
    "        \n",
    "        for current_node in self:\n",
    "            if current_node.next == None:\n",
    "                raise IndexError(\"Linked list index out of range.\")\n",
    "            if self.curr_pos == self.pos:\n",
    "                return current_node.data\n",
    "            self.curr_pos += 1\n",
    "    \n",
    "    # Using [] indexing\n",
    "    def __getitem__(self, pos):\n",
    "        \n",
    "        self.curr_pos = 0\n",
    "        self.pos = pos\n",
    "        \n",
    "        if self.head == None:\n",
    "            raise Exception(\"Linked list is empty.\")\n",
    "        \n",
    "        for current_node in self:\n",
    "            if current_node.next == None:\n",
    "                raise IndexError(\"Linked list index out of range.\")\n",
    "            if self.curr_pos == self.pos:\n",
    "                return current_node.data\n",
    "            self.curr_pos += 1\n",
    "\n",
    "\n",
    "kitchen = [\"mixer\", \"knife\", \"rice cooker\", \"ladle\", \"pan\", \"pot\", \"pestle & mortar\"]\n",
    "linked_three = UpgradedLinkedList(nodes=kitchen)\n",
    "print(\"Linked List Three:\", linked_three)\n",
    "print(\"Get position 3:\", linked_three.get(3))       # one index\n",
    "print(\"Get position 6:\", linked_three[5])           # zero index"
   ]
  },
  {
   "cell_type": "markdown",
   "metadata": {},
   "source": [
    "## Acknowledgement\n",
    "* Codes from [Real Python Linked Lists in Python: An Introduction](https://realpython.com/linked-lists-python/)."
   ]
  }
 ],
 "metadata": {
  "kernelspec": {
   "display_name": "venv",
   "language": "python",
   "name": "python3"
  },
  "language_info": {
   "codemirror_mode": {
    "name": "ipython",
    "version": 3
   },
   "file_extension": ".py",
   "mimetype": "text/x-python",
   "name": "python",
   "nbconvert_exporter": "python",
   "pygments_lexer": "ipython3",
   "version": "3.10.7"
  },
  "orig_nbformat": 4
 },
 "nbformat": 4,
 "nbformat_minor": 2
}
