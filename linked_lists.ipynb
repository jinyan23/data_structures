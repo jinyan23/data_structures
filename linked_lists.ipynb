{
 "cells": [
  {
   "cell_type": "markdown",
   "metadata": {},
   "source": [
    "# Linked List\n",
    "* A linked list is a data structure similar to array.\n",
    "* It is made up of a collection of nodes.\n",
    "* A node is an element in the linked list that carries two pieces of information: `data` and `next`.\n",
    "    * `data` contains the value of the element\n",
    "    * `next` points to the next node in the linked list\n",
    "* First node of a linked list is called the `head`.\n",
    "* Last node always points to `NONE`."
   ]
  },
  {
   "cell_type": "markdown",
   "metadata": {},
   "source": [
    "# Implementation of Linked List in Python"
   ]
  },
  {
   "cell_type": "code",
   "execution_count": 1,
   "metadata": {},
   "outputs": [],
   "source": [
    "# Create a class to represent a linked list\n",
    "class LinkedList:\n",
    "    \n",
    "    def __init__(self, nodes=None):\n",
    "        self.head = None\n",
    "        if nodes != None:\n",
    "            node = Node(data=nodes.pop(0))\n",
    "            self.head = node\n",
    "            for elem in nodes:\n",
    "                node.next = Node(data=elem)\n",
    "                node = node.next\n",
    "        \n",
    "    # Print a string representation of the linked list\n",
    "    def __repr__(self):\n",
    "        node = self.head\n",
    "        nodes = []\n",
    "        while node != None:\n",
    "            nodes.append(node.data)\n",
    "            node = node.next\n",
    "        nodes.append(\"None\")\n",
    "        return \" -> \".join(nodes)\n",
    "        \n",
    "        \n",
    "# Create a class to present a node\n",
    "class Node:\n",
    "    \n",
    "    def __init__(self, data):\n",
    "        self.data = data\n",
    "        self.next = None "
   ]
  },
  {
   "cell_type": "code",
   "execution_count": 2,
   "metadata": {},
   "outputs": [
    {
     "name": "stdout",
     "output_type": "stream",
     "text": [
      "apple -> pear -> grape -> None\n"
     ]
    }
   ],
   "source": [
    "# Instantiate an empty linked list\n",
    "linked_one = LinkedList()\n",
    "\n",
    "# Instantiate three nodes to be added into the linked list\n",
    "node_one = Node(\"apple\")\n",
    "node_two = Node(\"pear\")\n",
    "node_three = Node(\"grape\")\n",
    "\n",
    "# Link the nodes together\n",
    "linked_one.head = node_one\n",
    "node_one.next = node_two\n",
    "node_two.next = node_three\n",
    "\n",
    "# Print out linked list\n",
    "print(linked_one)"
   ]
  },
  {
   "cell_type": "code",
   "execution_count": 3,
   "metadata": {},
   "outputs": [
    {
     "name": "stdout",
     "output_type": "stream",
     "text": [
      "rat -> ox -> tiger -> rabbit -> None\n"
     ]
    }
   ],
   "source": [
    "# Providing argument for nodes parameter\n",
    "linked_two = LinkedList(nodes=[\"rat\", \"ox\", \"tiger\", \"rabbit\"])\n",
    "print(linked_two)"
   ]
  }
 ],
 "metadata": {
  "kernelspec": {
   "display_name": "venv",
   "language": "python",
   "name": "python3"
  },
  "language_info": {
   "codemirror_mode": {
    "name": "ipython",
    "version": 3
   },
   "file_extension": ".py",
   "mimetype": "text/x-python",
   "name": "python",
   "nbconvert_exporter": "python",
   "pygments_lexer": "ipython3",
   "version": "3.10.7"
  },
  "orig_nbformat": 4
 },
 "nbformat": 4,
 "nbformat_minor": 2
}
